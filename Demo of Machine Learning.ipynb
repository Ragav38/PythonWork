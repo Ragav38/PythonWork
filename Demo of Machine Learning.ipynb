{
 "cells": [
  {
   "cell_type": "markdown",
   "metadata": {},
   "source": [
    "# Demonstration of Machine Learning in Python"
   ]
  },
  {
   "cell_type": "markdown",
   "metadata": {},
   "source": [
    "#### This document shows a very simple demonstration of Machine Learning in Python.\n",
    "#### It reads a csv file that contains list of people and the type of footwear that they used and the type of terrain that they were using them\n",
    "#### This program uses RandonForest classifier"
   ]
  },
  {
   "cell_type": "markdown",
   "metadata": {},
   "source": [
    "#### 1. Import the necessary libraries"
   ]
  },
  {
   "cell_type": "code",
   "execution_count": 1,
   "metadata": {},
   "outputs": [],
   "source": [
    "import pandas as pd\n",
    "from sklearn.linear_model import LogisticRegression\n",
    "from sklearn.ensemble import RandomForestClassifier\n",
    "from sklearn.preprocessing import OrdinalEncoder\n",
    "from sklearn.preprocessing import LabelEncoder\n",
    "import matplotlib.pyplot as plt"
   ]
  },
  {
   "cell_type": "markdown",
   "metadata": {},
   "source": [
    "#### 2. Read the csv file"
   ]
  },
  {
   "cell_type": "code",
   "execution_count": 2,
   "metadata": {},
   "outputs": [],
   "source": [
    "data = pd.read_csv(\"DemoOfMLLifeCycle.csv\")"
   ]
  },
  {
   "cell_type": "markdown",
   "metadata": {},
   "source": [
    "#### 3. Dropping the unwanted columns from the dataset"
   ]
  },
  {
   "cell_type": "code",
   "execution_count": 3,
   "metadata": {},
   "outputs": [],
   "source": [
    "data = data.drop(['Name', 'Age', 'Sex'], axis = 1)"
   ]
  },
  {
   "cell_type": "code",
   "execution_count": 4,
   "metadata": {},
   "outputs": [
    {
     "data": {
      "text/html": [
       "<div>\n",
       "<style scoped>\n",
       "    .dataframe tbody tr th:only-of-type {\n",
       "        vertical-align: middle;\n",
       "    }\n",
       "\n",
       "    .dataframe tbody tr th {\n",
       "        vertical-align: top;\n",
       "    }\n",
       "\n",
       "    .dataframe thead th {\n",
       "        text-align: right;\n",
       "    }\n",
       "</style>\n",
       "<table border=\"1\" class=\"dataframe\">\n",
       "  <thead>\n",
       "    <tr style=\"text-align: right;\">\n",
       "      <th></th>\n",
       "      <th>TerrainType</th>\n",
       "      <th>Month</th>\n",
       "      <th>Footwear Type</th>\n",
       "    </tr>\n",
       "  </thead>\n",
       "  <tbody>\n",
       "    <tr>\n",
       "      <th>0</th>\n",
       "      <td>Road</td>\n",
       "      <td>January</td>\n",
       "      <td>Slippers</td>\n",
       "    </tr>\n",
       "    <tr>\n",
       "      <th>1</th>\n",
       "      <td>Road</td>\n",
       "      <td>April</td>\n",
       "      <td>Slippers</td>\n",
       "    </tr>\n",
       "    <tr>\n",
       "      <th>2</th>\n",
       "      <td>Road</td>\n",
       "      <td>October</td>\n",
       "      <td>Slippers</td>\n",
       "    </tr>\n",
       "    <tr>\n",
       "      <th>3</th>\n",
       "      <td>Forest</td>\n",
       "      <td>March</td>\n",
       "      <td>Boots</td>\n",
       "    </tr>\n",
       "    <tr>\n",
       "      <th>4</th>\n",
       "      <td>Mountain</td>\n",
       "      <td>April</td>\n",
       "      <td>Hiking shoes</td>\n",
       "    </tr>\n",
       "    <tr>\n",
       "      <th>5</th>\n",
       "      <td>Mountain</td>\n",
       "      <td>October</td>\n",
       "      <td>Hiking shoes</td>\n",
       "    </tr>\n",
       "    <tr>\n",
       "      <th>6</th>\n",
       "      <td>Forest</td>\n",
       "      <td>November</td>\n",
       "      <td>Boots</td>\n",
       "    </tr>\n",
       "    <tr>\n",
       "      <th>7</th>\n",
       "      <td>Road</td>\n",
       "      <td>March</td>\n",
       "      <td>Slippers</td>\n",
       "    </tr>\n",
       "    <tr>\n",
       "      <th>8</th>\n",
       "      <td>Mountain</td>\n",
       "      <td>January</td>\n",
       "      <td>Hiking shoes</td>\n",
       "    </tr>\n",
       "    <tr>\n",
       "      <th>9</th>\n",
       "      <td>Forest</td>\n",
       "      <td>May</td>\n",
       "      <td>Boots</td>\n",
       "    </tr>\n",
       "    <tr>\n",
       "      <th>10</th>\n",
       "      <td>Road</td>\n",
       "      <td>January</td>\n",
       "      <td>Slippers</td>\n",
       "    </tr>\n",
       "    <tr>\n",
       "      <th>11</th>\n",
       "      <td>Road</td>\n",
       "      <td>April</td>\n",
       "      <td>Slippers</td>\n",
       "    </tr>\n",
       "    <tr>\n",
       "      <th>12</th>\n",
       "      <td>Road</td>\n",
       "      <td>October</td>\n",
       "      <td>Slippers</td>\n",
       "    </tr>\n",
       "    <tr>\n",
       "      <th>13</th>\n",
       "      <td>Forest</td>\n",
       "      <td>March</td>\n",
       "      <td>Boots</td>\n",
       "    </tr>\n",
       "    <tr>\n",
       "      <th>14</th>\n",
       "      <td>Mountain</td>\n",
       "      <td>April</td>\n",
       "      <td>Hiking shoes</td>\n",
       "    </tr>\n",
       "    <tr>\n",
       "      <th>15</th>\n",
       "      <td>Mountain</td>\n",
       "      <td>October</td>\n",
       "      <td>Hiking shoes</td>\n",
       "    </tr>\n",
       "    <tr>\n",
       "      <th>16</th>\n",
       "      <td>Forest</td>\n",
       "      <td>November</td>\n",
       "      <td>Boots</td>\n",
       "    </tr>\n",
       "    <tr>\n",
       "      <th>17</th>\n",
       "      <td>Road</td>\n",
       "      <td>March</td>\n",
       "      <td>Slippers</td>\n",
       "    </tr>\n",
       "    <tr>\n",
       "      <th>18</th>\n",
       "      <td>Mountain</td>\n",
       "      <td>January</td>\n",
       "      <td>Hiking shoes</td>\n",
       "    </tr>\n",
       "    <tr>\n",
       "      <th>19</th>\n",
       "      <td>Forest</td>\n",
       "      <td>May</td>\n",
       "      <td>Boots</td>\n",
       "    </tr>\n",
       "    <tr>\n",
       "      <th>20</th>\n",
       "      <td>Road</td>\n",
       "      <td>January</td>\n",
       "      <td>Slippers</td>\n",
       "    </tr>\n",
       "    <tr>\n",
       "      <th>21</th>\n",
       "      <td>Road</td>\n",
       "      <td>April</td>\n",
       "      <td>Slippers</td>\n",
       "    </tr>\n",
       "    <tr>\n",
       "      <th>22</th>\n",
       "      <td>Road</td>\n",
       "      <td>October</td>\n",
       "      <td>Slippers</td>\n",
       "    </tr>\n",
       "    <tr>\n",
       "      <th>23</th>\n",
       "      <td>Forest</td>\n",
       "      <td>March</td>\n",
       "      <td>Boots</td>\n",
       "    </tr>\n",
       "    <tr>\n",
       "      <th>24</th>\n",
       "      <td>Mountain</td>\n",
       "      <td>April</td>\n",
       "      <td>Hiking shoes</td>\n",
       "    </tr>\n",
       "    <tr>\n",
       "      <th>25</th>\n",
       "      <td>Mountain</td>\n",
       "      <td>October</td>\n",
       "      <td>Hiking shoes</td>\n",
       "    </tr>\n",
       "    <tr>\n",
       "      <th>26</th>\n",
       "      <td>Forest</td>\n",
       "      <td>November</td>\n",
       "      <td>Boots</td>\n",
       "    </tr>\n",
       "    <tr>\n",
       "      <th>27</th>\n",
       "      <td>Road</td>\n",
       "      <td>March</td>\n",
       "      <td>Slippers</td>\n",
       "    </tr>\n",
       "    <tr>\n",
       "      <th>28</th>\n",
       "      <td>Mountain</td>\n",
       "      <td>January</td>\n",
       "      <td>Hiking shoes</td>\n",
       "    </tr>\n",
       "    <tr>\n",
       "      <th>29</th>\n",
       "      <td>Forest</td>\n",
       "      <td>May</td>\n",
       "      <td>Boots</td>\n",
       "    </tr>\n",
       "  </tbody>\n",
       "</table>\n",
       "</div>"
      ],
      "text/plain": [
       "   TerrainType     Month Footwear Type\n",
       "0         Road   January      Slippers\n",
       "1         Road     April      Slippers\n",
       "2         Road   October      Slippers\n",
       "3       Forest     March         Boots\n",
       "4     Mountain     April  Hiking shoes\n",
       "5     Mountain   October  Hiking shoes\n",
       "6       Forest  November         Boots\n",
       "7         Road     March      Slippers\n",
       "8     Mountain   January  Hiking shoes\n",
       "9       Forest       May         Boots\n",
       "10        Road   January      Slippers\n",
       "11        Road     April      Slippers\n",
       "12        Road   October      Slippers\n",
       "13      Forest     March         Boots\n",
       "14    Mountain     April  Hiking shoes\n",
       "15    Mountain   October  Hiking shoes\n",
       "16      Forest  November         Boots\n",
       "17        Road     March      Slippers\n",
       "18    Mountain   January  Hiking shoes\n",
       "19      Forest       May         Boots\n",
       "20        Road   January      Slippers\n",
       "21        Road     April      Slippers\n",
       "22        Road   October      Slippers\n",
       "23      Forest     March         Boots\n",
       "24    Mountain     April  Hiking shoes\n",
       "25    Mountain   October  Hiking shoes\n",
       "26      Forest  November         Boots\n",
       "27        Road     March      Slippers\n",
       "28    Mountain   January  Hiking shoes\n",
       "29      Forest       May         Boots"
      ]
     },
     "execution_count": 4,
     "metadata": {},
     "output_type": "execute_result"
    }
   ],
   "source": [
    "data"
   ]
  },
  {
   "cell_type": "markdown",
   "metadata": {},
   "source": [
    "#### 4. Splitting 70% of the dataset randomly for training the model"
   ]
  },
  {
   "cell_type": "code",
   "execution_count": 5,
   "metadata": {},
   "outputs": [],
   "source": [
    "training_data = data.sample(frac=0.7, random_state=1)"
   ]
  },
  {
   "cell_type": "code",
   "execution_count": 6,
   "metadata": {},
   "outputs": [
    {
     "data": {
      "text/html": [
       "<div>\n",
       "<style scoped>\n",
       "    .dataframe tbody tr th:only-of-type {\n",
       "        vertical-align: middle;\n",
       "    }\n",
       "\n",
       "    .dataframe tbody tr th {\n",
       "        vertical-align: top;\n",
       "    }\n",
       "\n",
       "    .dataframe thead th {\n",
       "        text-align: right;\n",
       "    }\n",
       "</style>\n",
       "<table border=\"1\" class=\"dataframe\">\n",
       "  <thead>\n",
       "    <tr style=\"text-align: right;\">\n",
       "      <th></th>\n",
       "      <th>TerrainType</th>\n",
       "      <th>Month</th>\n",
       "      <th>Footwear Type</th>\n",
       "    </tr>\n",
       "  </thead>\n",
       "  <tbody>\n",
       "    <tr>\n",
       "      <th>17</th>\n",
       "      <td>Road</td>\n",
       "      <td>March</td>\n",
       "      <td>Slippers</td>\n",
       "    </tr>\n",
       "    <tr>\n",
       "      <th>21</th>\n",
       "      <td>Road</td>\n",
       "      <td>April</td>\n",
       "      <td>Slippers</td>\n",
       "    </tr>\n",
       "    <tr>\n",
       "      <th>10</th>\n",
       "      <td>Road</td>\n",
       "      <td>January</td>\n",
       "      <td>Slippers</td>\n",
       "    </tr>\n",
       "    <tr>\n",
       "      <th>19</th>\n",
       "      <td>Forest</td>\n",
       "      <td>May</td>\n",
       "      <td>Boots</td>\n",
       "    </tr>\n",
       "    <tr>\n",
       "      <th>14</th>\n",
       "      <td>Mountain</td>\n",
       "      <td>April</td>\n",
       "      <td>Hiking shoes</td>\n",
       "    </tr>\n",
       "    <tr>\n",
       "      <th>20</th>\n",
       "      <td>Road</td>\n",
       "      <td>January</td>\n",
       "      <td>Slippers</td>\n",
       "    </tr>\n",
       "    <tr>\n",
       "      <th>26</th>\n",
       "      <td>Forest</td>\n",
       "      <td>November</td>\n",
       "      <td>Boots</td>\n",
       "    </tr>\n",
       "    <tr>\n",
       "      <th>3</th>\n",
       "      <td>Forest</td>\n",
       "      <td>March</td>\n",
       "      <td>Boots</td>\n",
       "    </tr>\n",
       "    <tr>\n",
       "      <th>24</th>\n",
       "      <td>Mountain</td>\n",
       "      <td>April</td>\n",
       "      <td>Hiking shoes</td>\n",
       "    </tr>\n",
       "    <tr>\n",
       "      <th>22</th>\n",
       "      <td>Road</td>\n",
       "      <td>October</td>\n",
       "      <td>Slippers</td>\n",
       "    </tr>\n",
       "    <tr>\n",
       "      <th>23</th>\n",
       "      <td>Forest</td>\n",
       "      <td>March</td>\n",
       "      <td>Boots</td>\n",
       "    </tr>\n",
       "    <tr>\n",
       "      <th>4</th>\n",
       "      <td>Mountain</td>\n",
       "      <td>April</td>\n",
       "      <td>Hiking shoes</td>\n",
       "    </tr>\n",
       "    <tr>\n",
       "      <th>2</th>\n",
       "      <td>Road</td>\n",
       "      <td>October</td>\n",
       "      <td>Slippers</td>\n",
       "    </tr>\n",
       "    <tr>\n",
       "      <th>25</th>\n",
       "      <td>Mountain</td>\n",
       "      <td>October</td>\n",
       "      <td>Hiking shoes</td>\n",
       "    </tr>\n",
       "    <tr>\n",
       "      <th>6</th>\n",
       "      <td>Forest</td>\n",
       "      <td>November</td>\n",
       "      <td>Boots</td>\n",
       "    </tr>\n",
       "    <tr>\n",
       "      <th>18</th>\n",
       "      <td>Mountain</td>\n",
       "      <td>January</td>\n",
       "      <td>Hiking shoes</td>\n",
       "    </tr>\n",
       "    <tr>\n",
       "      <th>13</th>\n",
       "      <td>Forest</td>\n",
       "      <td>March</td>\n",
       "      <td>Boots</td>\n",
       "    </tr>\n",
       "    <tr>\n",
       "      <th>7</th>\n",
       "      <td>Road</td>\n",
       "      <td>March</td>\n",
       "      <td>Slippers</td>\n",
       "    </tr>\n",
       "    <tr>\n",
       "      <th>27</th>\n",
       "      <td>Road</td>\n",
       "      <td>March</td>\n",
       "      <td>Slippers</td>\n",
       "    </tr>\n",
       "    <tr>\n",
       "      <th>1</th>\n",
       "      <td>Road</td>\n",
       "      <td>April</td>\n",
       "      <td>Slippers</td>\n",
       "    </tr>\n",
       "    <tr>\n",
       "      <th>16</th>\n",
       "      <td>Forest</td>\n",
       "      <td>November</td>\n",
       "      <td>Boots</td>\n",
       "    </tr>\n",
       "  </tbody>\n",
       "</table>\n",
       "</div>"
      ],
      "text/plain": [
       "   TerrainType     Month Footwear Type\n",
       "17        Road     March      Slippers\n",
       "21        Road     April      Slippers\n",
       "10        Road   January      Slippers\n",
       "19      Forest       May         Boots\n",
       "14    Mountain     April  Hiking shoes\n",
       "20        Road   January      Slippers\n",
       "26      Forest  November         Boots\n",
       "3       Forest     March         Boots\n",
       "24    Mountain     April  Hiking shoes\n",
       "22        Road   October      Slippers\n",
       "23      Forest     March         Boots\n",
       "4     Mountain     April  Hiking shoes\n",
       "2         Road   October      Slippers\n",
       "25    Mountain   October  Hiking shoes\n",
       "6       Forest  November         Boots\n",
       "18    Mountain   January  Hiking shoes\n",
       "13      Forest     March         Boots\n",
       "7         Road     March      Slippers\n",
       "27        Road     March      Slippers\n",
       "1         Road     April      Slippers\n",
       "16      Forest  November         Boots"
      ]
     },
     "execution_count": 6,
     "metadata": {},
     "output_type": "execute_result"
    }
   ],
   "source": [
    "training_data"
   ]
  },
  {
   "cell_type": "markdown",
   "metadata": {},
   "source": [
    "#### 5. Using the remaining 30% of data to test the model"
   ]
  },
  {
   "cell_type": "code",
   "execution_count": 7,
   "metadata": {},
   "outputs": [],
   "source": [
    "testing_data = data.drop(training_data.index)"
   ]
  },
  {
   "cell_type": "markdown",
   "metadata": {},
   "source": [
    "#### 6. Extracting the features from the training and test data by removing the label which is 'Footwear Type'"
   ]
  },
  {
   "cell_type": "code",
   "execution_count": 8,
   "metadata": {},
   "outputs": [],
   "source": [
    "x_train = training_data.drop('Footwear Type', axis = 1)\n",
    "x_test = testing_data.drop('Footwear Type', axis = 1)"
   ]
  },
  {
   "cell_type": "markdown",
   "metadata": {},
   "source": [
    "#### 7. Assigning the label from training data and testing data to respective variables"
   ]
  },
  {
   "cell_type": "code",
   "execution_count": 9,
   "metadata": {},
   "outputs": [],
   "source": [
    "y_train = training_data['Footwear Type']\n",
    "y_test = testing_data['Footwear Type']"
   ]
  },
  {
   "cell_type": "markdown",
   "metadata": {},
   "source": [
    "#### 8. Encode Categoricals into numeric values\n",
    "\n",
    "The data that can be used in Machine Learning are only numerical data. The other types are called Categorical data and if we have any non numeric data, i.e. Categorical data, then we have to encode those categorical data into numeric values using encoders. There are many ways to encode categorical data and here we are using OrdinalEncoder for encoding features and LabelEncoder to encode the label, i.e. the dependant variable\n"
   ]
  },
  {
   "cell_type": "code",
   "execution_count": 10,
   "metadata": {},
   "outputs": [],
   "source": [
    "ord_enc = OrdinalEncoder()\n",
    "lab_enc = LabelEncoder()\n",
    "x_train_pp = ord_enc.fit_transform(x_train)\n",
    "x_train_values = ord_enc.inverse_transform(x_train_pp)\n",
    "df_x_train = pd.DataFrame(x_train_pp, columns=x_train.columns)\n",
    "\n",
    "x_test_pp = ord_enc.fit_transform(x_test)\n",
    "x_test_values = ord_enc.inverse_transform(x_test_pp)\n",
    "df_x_test = pd.DataFrame(x_test_pp, columns=x_test.columns)\n",
    "\n",
    "y_test_pp = lab_enc.fit_transform(y_test.values.ravel())\n",
    "y_test_values = lab_enc.inverse_transform(y_test_pp)\n",
    "\n",
    "y_train_pp = lab_enc.fit_transform(y_train.values.ravel())\n",
    "y_train_values = lab_enc.inverse_transform(y_train_pp)"
   ]
  },
  {
   "cell_type": "markdown",
   "metadata": {},
   "source": [
    "#### We shall just print and see the various datasets"
   ]
  },
  {
   "cell_type": "code",
   "execution_count": 11,
   "metadata": {},
   "outputs": [
    {
     "data": {
      "text/plain": [
       "array([['Road', 'March'],\n",
       "       ['Road', 'April'],\n",
       "       ['Road', 'January'],\n",
       "       ['Forest', 'May'],\n",
       "       ['Mountain', 'April'],\n",
       "       ['Road', 'January'],\n",
       "       ['Forest', 'November'],\n",
       "       ['Forest', 'March'],\n",
       "       ['Mountain', 'April'],\n",
       "       ['Road', 'October'],\n",
       "       ['Forest', 'March'],\n",
       "       ['Mountain', 'April'],\n",
       "       ['Road', 'October'],\n",
       "       ['Mountain', 'October'],\n",
       "       ['Forest', 'November'],\n",
       "       ['Mountain', 'January'],\n",
       "       ['Forest', 'March'],\n",
       "       ['Road', 'March'],\n",
       "       ['Road', 'March'],\n",
       "       ['Road', 'April'],\n",
       "       ['Forest', 'November']], dtype=object)"
      ]
     },
     "execution_count": 11,
     "metadata": {},
     "output_type": "execute_result"
    }
   ],
   "source": [
    "x_train_values"
   ]
  },
  {
   "cell_type": "code",
   "execution_count": 12,
   "metadata": {},
   "outputs": [
    {
     "data": {
      "text/plain": [
       "array([['Road', 'January'],\n",
       "       ['Mountain', 'October'],\n",
       "       ['Mountain', 'January'],\n",
       "       ['Forest', 'May'],\n",
       "       ['Road', 'April'],\n",
       "       ['Road', 'October'],\n",
       "       ['Mountain', 'October'],\n",
       "       ['Mountain', 'January'],\n",
       "       ['Forest', 'May']], dtype=object)"
      ]
     },
     "execution_count": 12,
     "metadata": {},
     "output_type": "execute_result"
    }
   ],
   "source": [
    "x_test_values"
   ]
  },
  {
   "cell_type": "code",
   "execution_count": 13,
   "metadata": {},
   "outputs": [
    {
     "data": {
      "text/plain": [
       "array(['Slippers', 'Slippers', 'Slippers', 'Boots', 'Hiking shoes',\n",
       "       'Slippers', 'Boots', 'Boots', 'Hiking shoes', 'Slippers', 'Boots',\n",
       "       'Hiking shoes', 'Slippers', 'Hiking shoes', 'Boots',\n",
       "       'Hiking shoes', 'Boots', 'Slippers', 'Slippers', 'Slippers',\n",
       "       'Boots'], dtype=object)"
      ]
     },
     "execution_count": 13,
     "metadata": {},
     "output_type": "execute_result"
    }
   ],
   "source": [
    "y_train_values"
   ]
  },
  {
   "cell_type": "code",
   "execution_count": 14,
   "metadata": {},
   "outputs": [
    {
     "data": {
      "text/plain": [
       "array(['Slippers', 'Hiking shoes', 'Hiking shoes', 'Boots', 'Slippers',\n",
       "       'Slippers', 'Hiking shoes', 'Hiking shoes', 'Boots'], dtype=object)"
      ]
     },
     "execution_count": 14,
     "metadata": {},
     "output_type": "execute_result"
    }
   ],
   "source": [
    "y_test_values"
   ]
  },
  {
   "cell_type": "markdown",
   "metadata": {},
   "source": [
    "#### 9. Build the model"
   ]
  },
  {
   "cell_type": "code",
   "execution_count": 15,
   "metadata": {},
   "outputs": [],
   "source": [
    "model = RandomForestClassifier(n_estimators=100).fit(df_x_train, y_train_pp.ravel())"
   ]
  },
  {
   "cell_type": "markdown",
   "metadata": {},
   "source": [
    "#### 10. Predict using the model"
   ]
  },
  {
   "cell_type": "code",
   "execution_count": 16,
   "metadata": {},
   "outputs": [],
   "source": [
    "y_pred = model.predict(x_test_pp).astype(int)"
   ]
  },
  {
   "cell_type": "code",
   "execution_count": 17,
   "metadata": {},
   "outputs": [
    {
     "data": {
      "text/plain": [
       "array(['Slippers', 'Boots', 'Hiking shoes', 'Boots', 'Slippers',\n",
       "       'Slippers', 'Boots', 'Hiking shoes', 'Boots'], dtype=object)"
      ]
     },
     "execution_count": 17,
     "metadata": {},
     "output_type": "execute_result"
    }
   ],
   "source": [
    "y_pred_values = lab_enc.inverse_transform(y_pred)\n",
    "y_pred_values"
   ]
  },
  {
   "cell_type": "markdown",
   "metadata": {},
   "source": [
    "#### Plot Terrain Type vs Footwear Type for Test dataset"
   ]
  },
  {
   "cell_type": "code",
   "execution_count": 18,
   "metadata": {},
   "outputs": [
    {
     "data": {
      "text/plain": [
       "<matplotlib.collections.PathCollection at 0x20d96749790>"
      ]
     },
     "execution_count": 18,
     "metadata": {},
     "output_type": "execute_result"
    },
    {
     "data": {
      "image/png": "[encoded data removed]",
      "text/plain": [
       "<Figure size 432x288 with 1 Axes>"
      ]
     },
     "metadata": {
      "needs_background": "light"
     },
     "output_type": "display_data"
    }
   ],
   "source": [
    "plt.scatter(x_test['TerrainType'], y_pred_values)"
   ]
  },
  {
   "cell_type": "markdown",
   "metadata": {},
   "source": [
    "#### Plot Terrain Type vs Footwear Type for Training dataset"
   ]
  },
  {
   "cell_type": "code",
   "execution_count": 19,
   "metadata": {},
   "outputs": [
    {
     "data": {
      "text/plain": [
       "<matplotlib.collections.PathCollection at 0x20d967d7af0>"
      ]
     },
     "execution_count": 19,
     "metadata": {},
     "output_type": "execute_result"
    },
    {
     "data": {
      "image/png": "[encoded data removed]",
      "text/plain": [
       "<Figure size 432x288 with 1 Axes>"
      ]
     },
     "metadata": {
      "needs_background": "light"
     },
     "output_type": "display_data"
    }
   ],
   "source": [
    "plt.scatter(x_train['TerrainType'], y_train.squeeze())"
   ]
  }
 ],
 "metadata": {
  "kernelspec": {
   "display_name": "Python 3",
   "language": "python",
   "name": "python3"
  },
  "language_info": {
   "codemirror_mode": {
    "name": "ipython",
    "version": 3
   },
   "file_extension": ".py",
   "mimetype": "text/x-python",
   "name": "python",
   "nbconvert_exporter": "python",
   "pygments_lexer": "ipython3",
   "version": "3.8.3"
  }
 },
 "nbformat": 4,
 "nbformat_minor": 4
}
