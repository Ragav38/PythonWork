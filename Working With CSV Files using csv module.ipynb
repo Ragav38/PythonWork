{
 "cells": [
  {
   "cell_type": "markdown",
   "metadata": {},
   "source": [
    "# Python Tutorial: Working with CSV files - Read csv files using csv module"
   ]
  },
  {
   "cell_type": "markdown",
   "metadata": {},
   "source": [
    "CSV files are one popular type of files which stand for Comma-Separated Value files. This type of files contain data in the form of rows, each row containing multiple values each separated by comma. Though by definition, the values in a row in a CSV file are separated by comma, this delimiting character can be anything other than a comma. For example, | can be used as delimiter.\n",
    "\n",
    "We will see all these details and how to work with this type of file using a module called csv that is available in Python in this tutorial."
   ]
  },
  {
   "cell_type": "markdown",
   "metadata": {},
   "source": [
    "## csv module\n",
    "\n",
    "To work with csv files, we are going to use the csv module in Python. \n",
    "There is also an in-built function in Python called open() that we can use to work with any file.\n",
    "There is another package called pandas using which we can work with csv files, we will look into that in another tutorial."
   ]
  },
  {
   "cell_type": "code",
   "execution_count": 4,
   "metadata": {},
   "outputs": [],
   "source": [
    "import csv"
   ]
  },
  {
   "cell_type": "markdown",
   "metadata": {},
   "source": [
    "## Reading csv file using csv module"
   ]
  },
  {
   "cell_type": "markdown",
   "metadata": {},
   "source": [
    "To read a file using csv module, we use the __reader__ function as follows. Suppose we have the file Sample.csv in the current directory."
   ]
  },
  {
   "cell_type": "code",
   "execution_count": 2,
   "metadata": {},
   "outputs": [
    {
     "name": "stdout",
     "output_type": "stream",
     "text": [
      "['Name', 'Age', 'Sex']\n",
      "['Raga', '33', 'Male']\n"
     ]
    }
   ],
   "source": [
    "with open(r'Sample.csv', 'r') as file:\n",
    "    read = csv.reader(file)\n",
    "    for row in read:\n",
    "        print(row)"
   ]
  },
  {
   "cell_type": "markdown",
   "metadata": {},
   "source": [
    "In the above example, the csv file was using comma as the delimiter. Let's say the file uses tab delimiter. How would we read such a file using csv module? Here you go..."
   ]
  },
  {
   "cell_type": "code",
   "execution_count": 3,
   "metadata": {},
   "outputs": [
    {
     "name": "stdout",
     "output_type": "stream",
     "text": [
      "['Name', 'Age', 'Sex']\n",
      "['Raga', '33', 'Male']\n"
     ]
    }
   ],
   "source": [
    "with open(r'Sample_Tab.csv', 'r') as file:\n",
    "    read = csv.reader(file, delimiter = '\\t')\n",
    "    for row in read:\n",
    "        print(row)"
   ]
  },
  {
   "cell_type": "markdown",
   "metadata": {},
   "source": [
    "Suppose we have got initial spaces added in each value in the csv file. Let's see how it looks if we read using the above method:"
   ]
  },
  {
   "cell_type": "code",
   "execution_count": 5,
   "metadata": {},
   "outputs": [
    {
     "name": "stdout",
     "output_type": "stream",
     "text": [
      "['Name', ' Age', ' Sex']\n",
      "['Raga', ' 33', ' Male']\n"
     ]
    }
   ],
   "source": [
    "with open(r'Sample_InitialSpace.csv', 'r') as file:\n",
    "    read = csv.reader(file)\n",
    "    for row in read:\n",
    "        print(row)"
   ]
  },
  {
   "cell_type": "markdown",
   "metadata": {},
   "source": [
    "As we could see, Python has read the values including the initial spaces. If we would want to exclude the initial spaces, then we can do it as follows:"
   ]
  },
  {
   "cell_type": "code",
   "execution_count": 6,
   "metadata": {},
   "outputs": [
    {
     "name": "stdout",
     "output_type": "stream",
     "text": [
      "['Name', 'Age', 'Sex']\n",
      "['Raga', '33', 'Male']\n"
     ]
    }
   ],
   "source": [
    "with open(r'Sample_InitialSpace.csv', 'r') as file:\n",
    "    read = csv.reader(file, skipinitialspace=True)\n",
    "    for row in read:\n",
    "        print(row)"
   ]
  },
  {
   "cell_type": "markdown",
   "metadata": {},
   "source": [
    "Similarly, what happens if the values happen to contain quotes in them? How would Python read them? Let's see..."
   ]
  },
  {
   "cell_type": "code",
   "execution_count": 10,
   "metadata": {},
   "outputs": [
    {
     "name": "stdout",
     "output_type": "stream",
     "text": [
      "['Name', 'Age', 'Sex']\n",
      "['Raga', '33', 'Male']\n"
     ]
    }
   ],
   "source": [
    "with open(r'Sample_Quotes.csv', 'r') as file:\n",
    "    read = csv.reader(file, skipinitialspace=True)\n",
    "    for row in read:\n",
    "        print(row)"
   ]
  },
  {
   "cell_type": "markdown",
   "metadata": {},
   "source": [
    "As we saw, Python understood that the values contain quotes in them and ignored while reading. But, if the quotes are part of the values and you do not want Python to ignore them, then there is an option for you to use:"
   ]
  },
  {
   "cell_type": "code",
   "execution_count": 12,
   "metadata": {},
   "outputs": [
    {
     "name": "stdout",
     "output_type": "stream",
     "text": [
      "['\"Name\"', '\"Age\"', '\"Sex\"']\n",
      "['\"Raga\"', '\"33\"', '\"Male\"']\n"
     ]
    }
   ],
   "source": [
    "with open(r'Sample_Quotes.csv', 'r') as file:\n",
    "    read = csv.reader(file, skipinitialspace=True, quoting=csv.QUOTE_NONE)\n",
    "    for row in read:\n",
    "        print(row)"
   ]
  },
  {
   "cell_type": "markdown",
   "metadata": {},
   "source": [
    "There are four pre-defined constants that we can pass to the quoting parameter:\n",
    "\n",
    "- __csv.QUOTE_MINIMAL__ = CSV file has quotes around those entries which contain special characters such as delimiter character\n",
    "- __csv.QUOTE_NONNUMERIC__ = CSV file has quotes around the non-numeric entries\n",
    "- __csv.QUOTE_NONE__ = CSV file has none of the entries that have quotes around them\n",
    "- __csv.AUOTE_ALL__ = CSV file has all values inside quotation marks. This is the default if you specify nothing."
   ]
  },
  {
   "cell_type": "markdown",
   "metadata": {},
   "source": [
    "If we see in the last example, we have passed two parameters to the function reader. This can make the code look more redundant and difficult to read when we happen to read more and more files in the program. This redundancy can be avoided by using a concept called __Dialects__\n",
    "\n",
    "Dialect helps in grouping together many specific parameters into a single dialect name. This dialect name can then be passed as a parameter to multiple reader functions (and writer functions, as we see in a later chapter)"
   ]
  },
  {
   "cell_type": "code",
   "execution_count": 15,
   "metadata": {},
   "outputs": [
    {
     "name": "stdout",
     "output_type": "stream",
     "text": [
      "['\"Name\"', '\"Age\"', '\"Sex\"']\n",
      "['\"Raga\"', '\"33\"', '\"Male\"']\n"
     ]
    }
   ],
   "source": [
    "csv.register_dialect('SampleDialect', delimiter='\\t', skipinitialspace=True, quoting=csv.QUOTE_NONE)\n",
    "\n",
    "with open(r'Sample_All.csv', 'r') as file:\n",
    "    read = csv.reader(file, dialect='SampleDialect')\n",
    "    for row in read:\n",
    "        print(row)"
   ]
  },
  {
   "cell_type": "markdown",
   "metadata": {},
   "source": [
    "The contents of the csv file can be read as dictionary data too. Just quickly, a dictionary data format is one in which data is read as key-value pair. Example {'Name':'Raga', 'Age':'33', 'Sex':'Male'}. csv file can be read as such key-value pair using DictReader() __class__. Yes, please note that DictReader() is a class and not a function."
   ]
  },
  {
   "cell_type": "code",
   "execution_count": 16,
   "metadata": {},
   "outputs": [
    {
     "name": "stdout",
     "output_type": "stream",
     "text": [
      "{'Name': 'Raga', 'Age': '33', 'Sex': 'Male'}\n"
     ]
    }
   ],
   "source": [
    "with open(r'Sample.csv', 'r') as file:\n",
    "    read = csv.DictReader(file)\n",
    "    for row in read:\n",
    "        print(row)"
   ]
  },
  {
   "cell_type": "markdown",
   "metadata": {},
   "source": [
    "We will see this DictReader() class in more detail in a later section. There are many other functions and classes available in the csv module that we can use for various purposes.\n",
    "\n",
    "But, we have just introduced the very basic of how to read a simple csv file using the basic functions and classes available in csv module. We will see the other functions and classes of csv module as and when needed."
   ]
  }
 ],
 "metadata": {
  "kernelspec": {
   "display_name": "Python 3",
   "language": "python",
   "name": "python3"
  },
  "language_info": {
   "codemirror_mode": {
    "name": "ipython",
    "version": 3
   },
   "file_extension": ".py",
   "mimetype": "text/x-python",
   "name": "python",
   "nbconvert_exporter": "python",
   "pygments_lexer": "ipython3",
   "version": "3.8.3"
  }
 },
 "nbformat": 4,
 "nbformat_minor": 4
}
